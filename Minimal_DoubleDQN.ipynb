{
 "cells": [
  {
   "cell_type": "code",
   "execution_count": 1,
   "metadata": {
    "collapsed": true
   },
   "outputs": [],
   "source": [
    "%matplotlib inline\n",
    "\n",
    "import gym\n",
    "import matplotlib.pyplot as plt\n",
    "import torch\n",
    "import torch.nn.functional as F\n",
    "from torch.optim import Adam\n",
    "from torch import nn\n",
    "from torch.autograd import Variable\n",
    "\n",
    "from utils import grid_from_state, process_state\n",
    "from tutorial import select_action, calculate_epsilon\n",
    "from models import DQN\n",
    "from memory import ReplayMemory\n",
    "from atari_wrappers import wrap_deepmind"
   ]
  },
  {
   "cell_type": "markdown",
   "metadata": {},
   "source": [
    "## Double Q learning\n",
    "- https://arxiv.org/pdf/1509.06461.pdf\n",
    "- Stabilizes training and sometimes improves performance. \n",
    "- ~5 lines of code"
   ]
  },
  {
   "cell_type": "code",
   "execution_count": 2,
   "metadata": {},
   "outputs": [
    {
     "data": {
      "image/png": "[encoded data removed]",
      "text/plain": [
       "<matplotlib.figure.Figure at 0x7fd0446121d0>"
      ]
     },
     "metadata": {},
     "output_type": "display_data"
    }
   ],
   "source": [
    "env = gym.make('Breakout-v0')\n",
    "env = wrap_deepmind(env, frame_stack=True)\n",
    "_ = env.reset()\n",
    "action = env.action_space.sample()\n",
    "state, reward, _, _ = env.step(action)  # carry out action/observe reward\n",
    "next_state, _, _, _ = env.step(env.action_space.sample())  # carry out action/observe reward\n",
    "\n",
    "plt.imshow(grid_from_state(state));"
   ]
  },
  {
   "cell_type": "markdown",
   "metadata": {},
   "source": [
    "use a second DQN to compute `next_q_values` The target network,\n",
    "with parameters θ−, is the same as the online network except\n",
    "that its parameters are copied every τ steps from the online network,\n",
    "so that then θ−t = θt, and kept fixed on all other steps.\n",
    "\n",
    "- it is common to copy params every 1k-10k frames"
   ]
  },
  {
   "cell_type": "markdown",
   "metadata": {},
   "source": [
    "## q network and target network are the same"
   ]
  },
  {
   "cell_type": "code",
   "execution_count": 3,
   "metadata": {
    "collapsed": true
   },
   "outputs": [],
   "source": [
    "q_network = DQN(env.action_space.n) # initialize action-value function Q with random weights\n",
    "target_network = DQN(env.action_space.n)"
   ]
  },
  {
   "cell_type": "code",
   "execution_count": 4,
   "metadata": {},
   "outputs": [
    {
     "data": {
      "text/plain": [
       "DQN(\n",
       "  (conv1): Conv2d (4, 32, kernel_size=(8, 8), stride=(4, 4))\n",
       "  (conv2): Conv2d (32, 64, kernel_size=(4, 4), stride=(2, 2))\n",
       "  (conv3): Conv2d (64, 64, kernel_size=(3, 3), stride=(1, 1))\n",
       "  (fc4): Linear(in_features=3136, out_features=512)\n",
       "  (fc5): Linear(in_features=512, out_features=4)\n",
       ")"
      ]
     },
     "execution_count": 4,
     "metadata": {},
     "output_type": "execute_result"
    }
   ],
   "source": [
    "q_network"
   ]
  },
  {
   "cell_type": "code",
   "execution_count": 5,
   "metadata": {},
   "outputs": [
    {
     "data": {
      "text/plain": [
       "DQN(\n",
       "  (conv1): Conv2d (4, 32, kernel_size=(8, 8), stride=(4, 4))\n",
       "  (conv2): Conv2d (32, 64, kernel_size=(4, 4), stride=(2, 2))\n",
       "  (conv3): Conv2d (64, 64, kernel_size=(3, 3), stride=(1, 1))\n",
       "  (fc4): Linear(in_features=3136, out_features=512)\n",
       "  (fc5): Linear(in_features=512, out_features=4)\n",
       ")"
      ]
     },
     "execution_count": 5,
     "metadata": {},
     "output_type": "execute_result"
    }
   ],
   "source": [
    "target_network"
   ]
  },
  {
   "cell_type": "markdown",
   "metadata": {},
   "source": [
    "## New target calculation process\n",
    "![doubledqn](assets/doubleq.png)"
   ]
  },
  {
   "cell_type": "code",
   "execution_count": 6,
   "metadata": {},
   "outputs": [],
   "source": [
    "s = Variable(process_state(state))\n",
    "r = Variable(torch.Tensor([reward]))\n",
    "s2 = Variable(process_state(next_state))"
   ]
  },
  {
   "cell_type": "code",
   "execution_count": 7,
   "metadata": {},
   "outputs": [],
   "source": [
    "q_values = q_network(s)[:, action] # q vals for action we took"
   ]
  },
  {
   "cell_type": "code",
   "execution_count": 8,
   "metadata": {},
   "outputs": [],
   "source": [
    "target_actions = q_network(s2).max(dim=1)[1]\n",
    "next_q_values = target_network(s2)[range(len(target_actions)), target_actions]\n",
    "targets = r + (0.99 * next_q_values)"
   ]
  },
  {
   "cell_type": "markdown",
   "metadata": {},
   "source": [
    "## sync process, every 1-10k steps"
   ]
  },
  {
   "cell_type": "code",
   "execution_count": 29,
   "metadata": {
    "collapsed": true
   },
   "outputs": [],
   "source": [
    "dqn_params = q_network.state_dict()\n",
    "target_network.load_state_dict(dqn_params)"
   ]
  },
  {
   "cell_type": "markdown",
   "metadata": {},
   "source": [
    "## new training loop (single episode)"
   ]
  },
  {
   "cell_type": "code",
   "execution_count": 10,
   "metadata": {
    "collapsed": true
   },
   "outputs": [],
   "source": [
    "# hyper params\n",
    "\n",
    "batch_size = 32\n",
    "gamma = 0.99\n",
    "learning_rate =1e-4\n",
    "capacity=10000\n",
    "sync_interval=1000 # new parameter t from paper"
   ]
  },
  {
   "cell_type": "code",
   "execution_count": 11,
   "metadata": {},
   "outputs": [],
   "source": [
    "memory = ReplayMemory(capacity) # initialize replay memory\n",
    "q_network = DQN(env.action_space.n).cuda() # initialize action-value function Q with random weights\n",
    "target_network = DQN(env.action_space.n).cuda() # init target network\n",
    "\n",
    "optimizer = Adam(q_network.parameters(), lr=learning_rate)\n",
    "criterion = nn.SmoothL1Loss()\n",
    "state = env.reset() # observe initial state\n",
    "\n",
    "current_step = 0\n",
    "\n",
    "while True:\n",
    "    env.render() # so we can watch!\n",
    "    action = select_action(q_network, state, env, calculate_epsilon(current_step)) # select action\n",
    "    next_state, reward, done, info = env.step(action)  # carry out action/observe reward\n",
    "    # store experience s, a, r, s' in replay memory\n",
    "    memory.add(state, action, reward, next_state, done)\n",
    "\n",
    "    # sample random transitions\n",
    "    states, actions, rewards, next_states, done_mask = memory.sample(batch_size)\n",
    "    \n",
    "    # prepare batch\n",
    "    states = Variable(states).cuda()\n",
    "    next_states = Variable(next_states).cuda()\n",
    "    rewards = Variable(rewards).cuda()\n",
    "    done_mask = Variable(done_mask).cuda()\n",
    "\n",
    "    # calculate target\n",
    "    # find next Q values and set Q values for done states to 0\n",
    "    \n",
    "    ### DOUBLE Q LEARNING\n",
    "    target_actions = q_network(next_states).max(dim=1)[1]\n",
    "    next_q_values = target_network(next_states)[range(len(target_actions)), target_actions].detach() * done_mask\n",
    "    ### END DOUBLE Q LEARNING\n",
    "    \n",
    "    # calculate targets = rewards + (gamma * next_Q_values)\n",
    "    targets = rewards + (gamma * next_q_values)\n",
    "\n",
    "    q_values = q_network(states)[range(len(actions)), actions]  # select only Q values for actions we took\n",
    "    \n",
    "    # train network\n",
    "    loss = criterion(q_values, targets) # smooth l1 loss\n",
    "    optimizer.zero_grad()\n",
    "    loss.backward()\n",
    "    \n",
    "    # gradient clipping to prevent exploding gradient\n",
    "    for param in q_network.parameters():\n",
    "        param.grad.data.clamp_(-1, 1)\n",
    "    optimizer.step()\n",
    "    \n",
    "    state = next_state # move to next state\n",
    "    current_step += 1\n",
    "    \n",
    "    ### DDQN sync\n",
    "    if current_step % sync_interval == 0:\n",
    "            dqn_params = q_network.state_dict()\n",
    "            target_network.load_state_dict(dqn_params)\n",
    "    if done:\n",
    "        break\n",
    "\n",
    "env.close()"
   ]
  }
 ],
 "metadata": {
  "kernelspec": {
   "display_name": "Python 3",
   "language": "python",
   "name": "python3"
  },
  "language_info": {
   "codemirror_mode": {
    "name": "ipython",
    "version": 3
   },
   "file_extension": ".py",
   "mimetype": "text/x-python",
   "name": "python",
   "nbconvert_exporter": "python",
   "pygments_lexer": "ipython3",
   "version": "3.6.1"
  },
  "varInspector": {
   "cols": {
    "lenName": 16,
    "lenType": 16,
    "lenVar": 40
   },
   "kernels_config": {
    "python": {
     "delete_cmd_postfix": "",
     "delete_cmd_prefix": "del ",
     "library": "var_list.py",
     "varRefreshCmd": "print(var_dic_list())"
    },
    "r": {
     "delete_cmd_postfix": ") ",
     "delete_cmd_prefix": "rm(",
     "library": "var_list.r",
     "varRefreshCmd": "cat(var_dic_list()) "
    }
   },
   "types_to_exclude": [
    "module",
    "function",
    "builtin_function_or_method",
    "instance",
    "_Feature"
   ],
   "window_display": false
  }
 },
 "nbformat": 4,
 "nbformat_minor": 2
}
