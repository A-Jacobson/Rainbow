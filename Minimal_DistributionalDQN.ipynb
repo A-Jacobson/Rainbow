{
 "cells": [
  {
   "cell_type": "code",
   "execution_count": 83,
   "metadata": {
    "collapsed": true
   },
   "outputs": [],
   "source": [
    "%matplotlib inline\n",
    "import random \n",
    "\n",
    "import gym\n",
    "import matplotlib.pyplot as plt\n",
    "import torch\n",
    "import torch.nn.functional as F\n",
    "from torch.optim import Adam\n",
    "from torch import nn\n",
    "from torch.autograd import Variable\n",
    "\n",
    "from utils import grid_from_state, process_state\n",
    "from tutorial import select_action, calculate_epsilon\n",
    "from memory import ReplayMemory\n",
    "from atari_wrappers import wrap_deepmind"
   ]
  },
  {
   "cell_type": "code",
   "execution_count": 2,
   "metadata": {},
   "outputs": [
    {
     "data": {
      "image/png": "[encoded data removed]",
      "text/plain": [
       "<matplotlib.figure.Figure at 0x7fce64650ef0>"
      ]
     },
     "metadata": {},
     "output_type": "display_data"
    }
   ],
   "source": [
    "env = gym.make('Breakout-v0')\n",
    "env = wrap_deepmind(env, frame_stack=True)\n",
    "_ = env.reset()\n",
    "action = env.action_space.sample()\n",
    "state, reward, _, _ = env.step(action)  # carry out action/observe reward\n",
    "next_state, _, _, _ = env.step(env.action_space.sample())  # carry out action/observe reward\n",
    "\n",
    "plt.imshow(grid_from_state(state));"
   ]
  },
  {
   "cell_type": "markdown",
   "metadata": {},
   "source": [
    "## distributional Q netowork will output a q value distribution for each action"
   ]
  },
  {
   "cell_type": "markdown",
   "metadata": {},
   "source": [
    "![dist-q](assets/distributional-q.png)"
   ]
  },
  {
   "cell_type": "code",
   "execution_count": 6,
   "metadata": {},
   "outputs": [],
   "source": [
    "class C51(nn.Module):\n",
    "    \"\"\"\n",
    "    C51 architecture from \"A Distributional Perspective on Reinforcement Learning\"\n",
    "    https://arxiv.org/pdf/1707.06887.pdf\n",
    "    https://arxiv.org/pdf/1710.10044.pdf\n",
    "    outputs value distributions with 51 support values\n",
    "    \"\"\"\n",
    "    def __init__(self, num_actions, num_atoms=51):\n",
    "        super(C51, self).__init__()\n",
    "        self.num_actions = num_actions\n",
    "        self.num_atoms = num_atoms\n",
    "        self.conv1 = nn.Conv2d(4, 32, kernel_size=8, stride=4)\n",
    "        self.conv2 = nn.Conv2d(32, 64, kernel_size=4, stride=2)\n",
    "        self.conv3 = nn.Conv2d(64, 64, kernel_size=3, stride=1)\n",
    "        self.fc4 = nn.Linear(7 * 7 * 64, 512)\n",
    "        self.fc5 = nn.Linear(512, num_actions * num_atoms)\n",
    "\n",
    "    def forward(self, state):\n",
    "        x = F.relu(self.conv1(state))  # (20, 20, 32)\n",
    "        x = F.relu(self.conv2(x))  # (9, 9, 64)\n",
    "        x = F.relu(self.conv3(x))  # (7, 7, 64)\n",
    "        x = x.view(x.size(0), -1)  # flatten (7*7*64)\n",
    "        x = F.relu(self.fc4(x))  # (512)\n",
    "        x = self.fc5(x)\n",
    "        q_distributions = x.view(-1, self.num_actions, self.num_atoms) # (num_actions) q value for each action\n",
    "        return F.softmax(q_distributions, dim=2)"
   ]
  },
  {
   "cell_type": "code",
   "execution_count": 16,
   "metadata": {},
   "outputs": [],
   "source": [
    "c51 = C51(env.action_space.n)\n",
    "qdists = c51(Variable(process_state(state)))"
   ]
  },
  {
   "cell_type": "markdown",
   "metadata": {},
   "source": [
    "## Value distribution for action 0\n",
    "- we are rightfully uncertain"
   ]
  },
  {
   "cell_type": "code",
   "execution_count": 12,
   "metadata": {},
   "outputs": [
    {
     "data": {
      "image/png": "[encoded data removed]",
      "text/plain": [
       "<matplotlib.figure.Figure at 0x7fce31bd2ba8>"
      ]
     },
     "metadata": {},
     "output_type": "display_data"
    }
   ],
   "source": [
    "import seaborn as sns\n",
    "g = sns.barplot(torch.arange(0, 51).numpy(), qdists.squeeze(0)[0].data.numpy(), color=\"#2ecc71\")\n",
    "g.set(xticklabels=[])\n",
    "g.set_ylim(0, 0.1);"
   ]
  },
  {
   "cell_type": "markdown",
   "metadata": {},
   "source": [
    "## selecting actions\n",
    "- project q_dists onto reward distribution, sum their values "
   ]
  },
  {
   "cell_type": "code",
   "execution_count": 81,
   "metadata": {},
   "outputs": [],
   "source": [
    "num_atoms = 51 # 51 for C51\n",
    "v_max = 10\n",
    "v_min = -10\n",
    "delta_z = (v_max - v_min) / float(num_atoms - 1)\n",
    "projection_dist = torch.Tensor([v_min + i * delta_z for i in range(num_atoms)])"
   ]
  },
  {
   "cell_type": "code",
   "execution_count": 74,
   "metadata": {},
   "outputs": [
    {
     "data": {
      "image/png": "[encoded data removed]",
      "text/plain": [
       "<matplotlib.figure.Figure at 0x7fce4f07e6a0>"
      ]
     },
     "metadata": {},
     "output_type": "display_data"
    }
   ],
   "source": [
    "g = sns.barplot(torch.arange(0, 51).numpy(), z, color=\"#2ecc71\")\n",
    "g.set(xticklabels=[]);"
   ]
  },
  {
   "cell_type": "code",
   "execution_count": 65,
   "metadata": {},
   "outputs": [
    {
     "data": {
      "text/plain": [
       "array([ 0.00773177, -0.00064816,  0.04333508, -0.01434487], dtype=float32)"
      ]
     },
     "execution_count": 65,
     "metadata": {},
     "output_type": "execute_result"
    }
   ],
   "source": [
    "q"
   ]
  },
  {
   "cell_type": "code",
   "execution_count": 67,
   "metadata": {},
   "outputs": [],
   "source": [
    "z2 = c51(Variable(process_state(state))).squeeze(0).data"
   ]
  },
  {
   "cell_type": "markdown",
   "metadata": {},
   "source": [
    "## Calculating new loss using cross entropy between distributions"
   ]
  },
  {
   "cell_type": "code",
   "execution_count": 92,
   "metadata": {},
   "outputs": [
    {
     "data": {
      "text/plain": [
       "2"
      ]
     },
     "execution_count": 92,
     "metadata": {},
     "output_type": "execute_result"
    }
   ],
   "source": [
    "select_action(c51, state, projection_dist, 0, env)"
   ]
  },
  {
   "cell_type": "code",
   "execution_count": 91,
   "metadata": {
    "collapsed": true
   },
   "outputs": [],
   "source": [
    "def select_action(c51, state, projection_dist, epsilon, env):\n",
    "    if epsilon > random.random():\n",
    "        return env.action_space.sample()\n",
    "    \n",
    "    q_dists = c51(Variable(process_state(state), volatile=True)).squeeze(0).data\n",
    "    q_vals = (q_dists * projection_dist).sum(1)\n",
    "    return int(q_vals.max(0)[1]) # pick highest Q_val"
   ]
  },
  {
   "cell_type": "code",
   "execution_count": 17,
   "metadata": {},
   "outputs": [],
   "source": [
    "qdists = c51(Variable(process_state(state)))[:, 0]\n",
    "target_qdists = c51(Variable(process_state(state))).detach()[:, 0]\n",
    "targets = 1 + (0.99 + target_qdists)"
   ]
  },
  {
   "cell_type": "markdown",
   "metadata": {},
   "source": [
    "normal pytorch crossentropy loss expects our targets as class labels rather than distributions so we will have to make our own"
   ]
  },
  {
   "cell_type": "code",
   "execution_count": 27,
   "metadata": {},
   "outputs": [],
   "source": [
    "def cross_entropy(output, targets):\n",
    "    \"\"\"\n",
    "    cross entropy loss between distributions.\n",
    "    input and targets of (batch, distribution).\n",
    "    \"\"\"\n",
    "    return -(targets * torch.log(output)).sum(dim=1).mean())"
   ]
  },
  {
   "cell_type": "code",
   "execution_count": 32,
   "metadata": {},
   "outputs": [
    {
     "data": {
      "text/plain": [
       "Variable containing:\n",
       " 204.4692\n",
       "[torch.FloatTensor of size 1]"
      ]
     },
     "execution_count": 32,
     "metadata": {},
     "output_type": "execute_result"
    }
   ],
   "source": [
    "cross_entropy(qdists, qdists)"
   ]
  },
  {
   "cell_type": "code",
   "execution_count": null,
   "metadata": {
    "collapsed": true
   },
   "outputs": [],
   "source": []
  }
 ],
 "metadata": {
  "kernelspec": {
   "display_name": "Python 3",
   "language": "python",
   "name": "python3"
  },
  "language_info": {
   "codemirror_mode": {
    "name": "ipython",
    "version": 3
   },
   "file_extension": ".py",
   "mimetype": "text/x-python",
   "name": "python",
   "nbconvert_exporter": "python",
   "pygments_lexer": "ipython3",
   "version": "3.6.1"
  },
  "varInspector": {
   "cols": {
    "lenName": 16,
    "lenType": 16,
    "lenVar": 40
   },
   "kernels_config": {
    "python": {
     "delete_cmd_postfix": "",
     "delete_cmd_prefix": "del ",
     "library": "var_list.py",
     "varRefreshCmd": "print(var_dic_list())"
    },
    "r": {
     "delete_cmd_postfix": ") ",
     "delete_cmd_prefix": "rm(",
     "library": "var_list.r",
     "varRefreshCmd": "cat(var_dic_list()) "
    }
   },
   "types_to_exclude": [
    "module",
    "function",
    "builtin_function_or_method",
    "instance",
    "_Feature"
   ],
   "window_display": false
  }
 },
 "nbformat": 4,
 "nbformat_minor": 2
}
