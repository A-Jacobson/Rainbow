{
 "cells": [
  {
   "cell_type": "code",
   "execution_count": 1,
   "metadata": {
    "collapsed": true
   },
   "outputs": [],
   "source": [
    "%matplotlib inline\n",
    "import random\n",
    "import math\n",
    "\n",
    "import numpy as np\n",
    "import gym\n",
    "import matplotlib.pyplot as plt\n",
    "import torch\n",
    "import torch.nn.functional as F\n",
    "from torch.optim import Adam\n",
    "from torch.backends import cudnn\n",
    "from torch import nn\n",
    "from torch.autograd import Variable\n",
    "from utils import grid_from_state\n",
    "\n",
    "from atari_wrappers import wrap_deepmind"
   ]
  },
  {
   "cell_type": "markdown",
   "metadata": {},
   "source": [
    "## Utils"
   ]
  },
  {
   "cell_type": "code",
   "execution_count": 2,
   "metadata": {
    "collapsed": true
   },
   "outputs": [],
   "source": [
    "def process_state(state):\n",
    "    state = np.array(state, dtype='float32').transpose((2, 0, 1)) # change WHC to CWH for pytorch\n",
    "    state /= 255. # rescale 0-1\n",
    "    state = torch.from_numpy(state).unsqueeze(0) # add batch dim\n",
    "    return state"
   ]
  },
  {
   "cell_type": "markdown",
   "metadata": {},
   "source": [
    "## Environment\n",
    "- deepmind wrapper keeps track of a frame stack, resizes to 84x84, and converts to grayscale\n"
   ]
  },
  {
   "cell_type": "code",
   "execution_count": 3,
   "metadata": {
    "collapsed": true
   },
   "outputs": [],
   "source": [
    "env = gym.make('Pong-v0')\n",
    "env = wrap_deepmind(env, frame_stack=True)"
   ]
  },
  {
   "cell_type": "markdown",
   "metadata": {},
   "source": [
    "### Sample state\n",
    "- this is what the q-network will see at every step"
   ]
  },
  {
   "cell_type": "code",
   "execution_count": 4,
   "metadata": {},
   "outputs": [
    {
     "data": {
      "image/png": "[encoded data removed]",
      "text/plain": [
       "<matplotlib.figure.Figure at 0x7fcd40f2e780>"
      ]
     },
     "metadata": {},
     "output_type": "display_data"
    }
   ],
   "source": [
    "state = env.reset()\n",
    "plt.imshow(grid_from_state(state), cmap='gray');"
   ]
  },
  {
   "cell_type": "markdown",
   "metadata": {},
   "source": [
    "## Q-Network\n",
    "this network will approximate the Q function. It takes a state (4 stacked frames) and outputs a q values for each possible action (Pong has 6 possible actions). Q values are estimates of amount of reward (score) we expect to get at the end of the game.\n",
    "![dqn](assets/dqn.png)"
   ]
  },
  {
   "cell_type": "code",
   "execution_count": 5,
   "metadata": {
    "collapsed": true
   },
   "outputs": [],
   "source": [
    "class DQN(nn.Module):\n",
    "    \"\"\"\n",
    "    deepmind architecture from \"Human-level control through deep reinforcement learning\"\n",
    "    https://storage.googleapis.com/deepmind-media/dqn/DQNNaturePaper.pdf\n",
    "    \"\"\"\n",
    "    def __init__(self, num_actions):\n",
    "        super(DQN, self).__init__()\n",
    "        self.conv1 = nn.Conv2d(4, 32, kernel_size=8, stride=4)\n",
    "        self.conv2 = nn.Conv2d(32, 64, kernel_size=4, stride=2)\n",
    "        self.conv3 = nn.Conv2d(64, 64, kernel_size=3, stride=1)\n",
    "        self.fc4 = nn.Linear(7 * 7 * 64, 512)\n",
    "        self.fc5 = nn.Linear(512, num_actions)\n",
    "\n",
    "    def forward(self, state):\n",
    "        x = F.relu(self.conv1(state))  # (20, 20, 32)\n",
    "        x = F.relu(self.conv2(x))  # (9, 9, 64)\n",
    "        x = F.relu(self.conv3(x))  # (7, 7, 64)\n",
    "        x = x.view(x.size(0), -1)  # flatten (7*7*64)\n",
    "        x = F.relu(self.fc4(x))  # (512)\n",
    "        q_values = self.fc5(x)  # (num_actions) q value for each action\n",
    "        return q_values"
   ]
  },
  {
   "cell_type": "markdown",
   "metadata": {},
   "source": [
    "## Replay Memory\n",
    "- we want constant time insertion and sampling as this holds 1 million transitions in original paper and must be sampled from on every step."
   ]
  },
  {
   "cell_type": "code",
   "execution_count": 6,
   "metadata": {
    "collapsed": true
   },
   "outputs": [],
   "source": [
    "class ReplayMemory:\n",
    "    \"\"\"\n",
    "    samples are stored as ('state', 'action', 'next_state', 'reward', done)\n",
    "    \"\"\"\n",
    "    def __init__(self, capacity):\n",
    "        self.capacity = capacity\n",
    "        self.samples = []\n",
    "        self.insert_location = 0\n",
    "\n",
    "    def add(self, state, action, reward, next_state, done):\n",
    "        sample = (state, action, reward, next_state, done)\n",
    "        if self.insert_location >= len(self.samples):\n",
    "            self.samples.append(sample)\n",
    "        else:\n",
    "            self.samples[self.insert_location] = sample  # assignment is O(1) for lists\n",
    "        # walk insertion point through list\n",
    "        self.insert_location = (self.insert_location + 1) % self.capacity\n",
    "\n",
    "    def sample(self, batch_size):\n",
    "        batch_size = min(batch_size, len(self.samples))\n",
    "        batch = random.sample(self.samples, batch_size)\n",
    "        return self.prepare_batch(batch)\n",
    "\n",
    "    def prepare_batch(self, batch):\n",
    "        \"\"\"\n",
    "        Transposes and pre-processes batch of transitions into batches of torch tensors\n",
    "        \n",
    "        Args:\n",
    "            batch: list of transitions [[s, a, r, s2, done],\n",
    "                                        [s, a, r, s2, done]]\n",
    "\n",
    "        Returns: [s], [a], [r], [s2], [done_mask]\n",
    "        \"\"\"\n",
    "        states, actions, rewards, next_states, done_mask = [], [], [], [], []\n",
    "        for state, action, reward, next_state, done in batch:\n",
    "            states.append(process_state(state))\n",
    "            actions.append(action)\n",
    "            rewards.append(reward)\n",
    "            next_states.append(process_state(next_state))\n",
    "            done_mask.append(1 - done)  # turn True values into zero for mask\n",
    "        states = torch.cat(states)\n",
    "        next_states = torch.cat(next_states)\n",
    "        rewards = torch.FloatTensor(rewards)\n",
    "        done_mask = torch.FloatTensor(done_mask)\n",
    "        return states, actions, rewards, next_states, done_mask\n",
    "\n",
    "    def __len__(self):\n",
    "        return len(self.samples)"
   ]
  },
  {
   "cell_type": "markdown",
   "metadata": {},
   "source": [
    "## Action Selection Policy\n",
    "with probability epsilon, select a random action. otherwise selects action corresponding to highest predicted Q value argmax(Q(S, A)"
   ]
  },
  {
   "cell_type": "code",
   "execution_count": 7,
   "metadata": {
    "collapsed": true
   },
   "outputs": [],
   "source": [
    "def select_action(q_network, state, env, epsilon):\n",
    "    \"\"\"\n",
    "    epsilon greedy policy.\n",
    "    selects action corresponding to highest predicted Q value, otherwise selects\n",
    "    otherwise selects random action with epsilon probability.\n",
    "    Args:\n",
    "        state: current state of the environment (4 stack of image frames)\n",
    "        epsilon: probability of random action (1.0 - 0.0)\n",
    "\n",
    "    Returns:(int) action to perform\n",
    "    \"\"\"\n",
    "    if epsilon > random.random():\n",
    "        return env.action_space.sample()\n",
    "    state = Variable(process_state(state), volatile=True).cuda()\n",
    "    return int(q_network(state).data.max(1)[1])"
   ]
  },
  {
   "cell_type": "code",
   "execution_count": 8,
   "metadata": {
    "collapsed": true
   },
   "outputs": [],
   "source": [
    "def calculate_epsilon(steps_done, exploration_start=0.9,\n",
    "                      exploration_end=0.05,\n",
    "                      last_exploration_frame=100000):\n",
    "    \"\"\"\n",
    "    calculates exponential decay over eps_decay steps\n",
    "    \"\"\"\n",
    "    eps = exploration_end + (exploration_start - exploration_end) * \\\n",
    "        math.exp(-1. * steps_done / last_exploration_frame)\n",
    "    return eps"
   ]
  },
  {
   "cell_type": "markdown",
   "metadata": {},
   "source": [
    "![q-learning-algorithm](assets/q-learning.png)"
   ]
  },
  {
   "cell_type": "markdown",
   "metadata": {},
   "source": [
    "## deep q learning (1 episode)"
   ]
  },
  {
   "cell_type": "code",
   "execution_count": 12,
   "metadata": {
    "collapsed": true
   },
   "outputs": [],
   "source": [
    "# hyper params\n",
    "batch_size = 32\n",
    "gamma = 0.99\n",
    "memory_capacity = 10000\n",
    "learning_rate =1e-4\n",
    "\n",
    "memory = ReplayMemory(capacity=10000) # initialize replay memory\n",
    "q_network = DQN(env.action_space.n).cuda() # initialize action-value function Q with random weights\n",
    "optimizer = Adam(q_network.parameters(), lr=learning_rate)\n",
    "criterion = nn.SmoothL1Loss()\n",
    "state = env.reset() # observe initial state\n",
    "\n",
    "current_step = 0\n",
    "\n",
    "while True:\n",
    "    env.render() # so we can watch!\n",
    "    action = select_action(q_network, state, env, calculate_epsilon(current_step)) # select action\n",
    "    next_state, reward, done, info = env.step(action)  # carry out action/observe reward\n",
    "    # store experience s, a, r, s' in replay memory\n",
    "    memory.add(state, action, reward, next_state, done)\n",
    "\n",
    "    # sample random transitions\n",
    "    states, actions, rewards, next_states, done_mask = memory.sample(batch_size)\n",
    "    \n",
    "    # prepare batch\n",
    "    states = Variable(states).cuda()\n",
    "    next_states = Variable(next_states).cuda()\n",
    "    rewards = Variable(rewards).cuda()\n",
    "    done_mask = Variable(done_mask).cuda()\n",
    "\n",
    "    # calculate target\n",
    "    # find next Q values and set Q values for done states to 0\n",
    "    next_q_values = q_network(next_states).max(dim=1)[0].detach() * done_mask\n",
    "    # calculate targets = rewards + (gamma * next_Q_values)\n",
    "    targets = rewards + (gamma * next_q_values)\n",
    "\n",
    "    q_values = q_network(states)[range(len(actions)), actions]  # select only Q values for actions we took\n",
    "    \n",
    "    # train network\n",
    "    loss = criterion(q_values, targets) # smooth l1 loss\n",
    "    optimizer.zero_grad()\n",
    "    loss.backward()\n",
    "    \n",
    "    # gradient clipping\n",
    "    for param in q_network.parameters():\n",
    "        param.grad.data.clamp_(-1, 1)\n",
    "    optimizer.step()\n",
    "    \n",
    "    state = next_state # move to next state\n",
    "    current_step += 1\n",
    "    if done:\n",
    "        break\n",
    "\n",
    "env.close()"
   ]
  }
 ],
 "metadata": {
  "kernelspec": {
   "display_name": "Python 3",
   "language": "python",
   "name": "python3"
  },
  "language_info": {
   "codemirror_mode": {
    "name": "ipython",
    "version": 3
   },
   "file_extension": ".py",
   "mimetype": "text/x-python",
   "name": "python",
   "nbconvert_exporter": "python",
   "pygments_lexer": "ipython3",
   "version": "3.6.1"
  },
  "varInspector": {
   "cols": {
    "lenName": 16,
    "lenType": 16,
    "lenVar": 40
   },
   "kernels_config": {
    "python": {
     "delete_cmd_postfix": "",
     "delete_cmd_prefix": "del ",
     "library": "var_list.py",
     "varRefreshCmd": "print(var_dic_list())"
    },
    "r": {
     "delete_cmd_postfix": ") ",
     "delete_cmd_prefix": "rm(",
     "library": "var_list.r",
     "varRefreshCmd": "cat(var_dic_list()) "
    }
   },
   "types_to_exclude": [
    "module",
    "function",
    "builtin_function_or_method",
    "instance",
    "_Feature"
   ],
   "window_display": false
  }
 },
 "nbformat": 4,
 "nbformat_minor": 2
}
